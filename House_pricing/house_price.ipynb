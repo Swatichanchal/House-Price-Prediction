{
 "cells": [
  {
   "cell_type": "code",
   "execution_count": 65,
   "metadata": {},
   "outputs": [],
   "source": [
    "import numpy as np\n",
    "import matplotlib.pyplot as plt\n",
    "import pandas as pd\n"
   ]
  },
  {
   "cell_type": "code",
   "execution_count": 66,
   "metadata": {},
   "outputs": [],
   "source": [
    "train = pd.read_csv(r'C:\\Users\\Swati\\Downloads\\train.csv')\n",
    "test = pd.read_csv(r'C:\\Users\\Swati\\Downloads\\test.csv')"
   ]
  },
  {
   "cell_type": "code",
   "execution_count": 67,
   "metadata": {},
   "outputs": [
    {
     "name": "stdout",
     "output_type": "stream",
     "text": [
      "(1460, 79)\n",
      "(1459, 79)\n",
      "(1460,)\n"
     ]
    }
   ],
   "source": [
    "X_train= train.iloc[:, 1:-1]\n",
    "y_train = train.iloc[:, -1]\n",
    "X_test= test.iloc[:, 1:]\n",
    "print(X_train.shape)\n",
    "print(X_test.shape)\n",
    "print(y_train.shape)"
   ]
  },
  {
   "cell_type": "code",
   "execution_count": 68,
   "metadata": {},
   "outputs": [],
   "source": [
    "'''\n",
    "X = np.delete(X,13 , 1 )\n",
    "X = np.delete(X,63 , 1 )\n",
    "X = np.delete(X,5 , 1 )\n",
    "X = np.delete(X,19 , 1 )\n",
    "\n",
    "# DELETE IS NUMPY FUNCTION \n",
    "'''\n",
    "X_train = X_train.drop(['Condition1','Street','YearBuilt'] , axis=1)\n",
    "X_test = X_test.drop(['Condition1','Street','YearBuilt'] , axis=1)"
   ]
  },
  {
   "cell_type": "code",
   "execution_count": 69,
   "metadata": {},
   "outputs": [
    {
     "name": "stdout",
     "output_type": "stream",
     "text": [
      "The X_train set shape is : (1460, 76)\n",
      "The X_test set shape is : (1459, 76)\n",
      "The y_train set shape is : (1460,)\n",
      "The train set shape is : (1460, 81)\n",
      "The test set shape is : (1459, 80)\n"
     ]
    }
   ],
   "source": [
    "print('The X_train set shape is : %s' %str(X_train.shape))\n",
    "print('The X_test set shape is : %s' %str(X_test.shape))\n",
    "print('The y_train set shape is : %s' %str(y_train.shape))\n",
    "print('The train set shape is : %s' %str(train.shape))\n",
    "print('The test set shape is : %s' %str(test.shape))"
   ]
  },
  {
   "cell_type": "code",
   "execution_count": 70,
   "metadata": {},
   "outputs": [
    {
     "name": "stdout",
     "output_type": "stream",
     "text": [
      "They are 19 columns with missing values : \n",
      "[('PoolQC', 1453), ('MiscFeature', 1406), ('Alley', 1369), ('Fence', 1179), ('FireplaceQu', 690), ('LotFrontage', 259), ('GarageType', 81), ('GarageCond', 81), ('GarageYrBlt', 81), ('GarageFinish', 81), ('GarageQual', 81), ('BsmtExposure', 38), ('BsmtFinType2', 38), ('BsmtFinType1', 37), ('BsmtCond', 37), ('BsmtQual', 37), ('MasVnrArea', 8), ('MasVnrType', 8), ('Electrical', 1)] \n",
      "They are 33 columns with missing values : \n",
      "[('PoolQC', 1456), ('MiscFeature', 1408), ('Alley', 1352), ('Fence', 1169), ('FireplaceQu', 730), ('LotFrontage', 227), ('GarageYrBlt', 78), ('GarageQual', 78), ('GarageFinish', 78), ('GarageCond', 78), ('GarageType', 76), ('BsmtCond', 45), ('BsmtQual', 44), ('BsmtExposure', 44), ('BsmtFinType2', 42), ('BsmtFinType1', 42), ('MasVnrType', 16), ('MasVnrArea', 15), ('MSZoning', 4), ('BsmtFullBath', 2), ('BsmtHalfBath', 2), ('Utilities', 2), ('Functional', 2), ('SaleType', 1), ('KitchenQual', 1), ('GarageArea', 1), ('TotalBsmtSF', 1), ('BsmtUnfSF', 1), ('GarageCars', 1), ('Exterior1st', 1), ('BsmtFinSF2', 1), ('BsmtFinSF1', 1), ('Exterior2nd', 1)] \n"
     ]
    }
   ],
   "source": [
    "# Imputing the missing values\n",
    "missing =X_train.isna().sum(axis=0).sort_values(ascending=False)\n",
    "missing_value_columns = missing[missing>0]\n",
    "print('They are %s columns with missing values : \\n%s ' %(missing_value_columns.count() , [(index , value) for (index , value) in missing_value_columns.iteritems()]))\n",
    "\n",
    "missing =X_test.isna().sum(axis=0).sort_values(ascending=False)\n",
    "missing_value_columns = missing[missing>0]\n",
    "print('They are %s columns with missing values : \\n%s ' %(missing_value_columns.count() , [(index , value) for (index , value) in missing_value_columns.iteritems()]))\n"
   ]
  },
  {
   "cell_type": "code",
   "execution_count": 71,
   "metadata": {},
   "outputs": [],
   "source": [
    "# training set\n",
    "def impute_value(X):\n",
    "    dataset =X\n",
    "    dataset['PoolQC'].fillna('NA' , inplace = True)\n",
    "    dataset['MiscFeature'].fillna('NA' , inplace = True)\n",
    "    dataset['Alley'].fillna('NA' , inplace = True)\n",
    "    dataset['Fence'].fillna('NA' , inplace = True)\n",
    "    dataset['FireplaceQu'].fillna('NA' , inplace = True)\n",
    "    dataset['LotFrontage'].fillna(dataset['LotFrontage'].median() , inplace = True)\n",
    "    dataset['GarageCond'].fillna('NA' , inplace = True)\n",
    "    dataset['GarageType'].fillna('NA' , inplace = True)\n",
    "    dataset['GarageYrBlt'].fillna(dataset['GarageYrBlt'].median() , inplace = True)\n",
    "    dataset['GarageFinish'].fillna('NA' , inplace = True)\n",
    "    dataset['GarageQual'].fillna('NA' , inplace = True)\n",
    "    dataset['BsmtExposure'].fillna('NA' , inplace = True)\n",
    "    dataset['BsmtFinType2'].fillna('NA' , inplace = True)\n",
    "    dataset['BsmtFinType1'].fillna('NA' , inplace = True)\n",
    "    dataset['BsmtCond'].fillna('NA' , inplace = True)\n",
    "    dataset['BsmtQual'].fillna('NA' , inplace = True)\n",
    "    dataset['MasVnrArea'].fillna(dataset['MasVnrArea'].median() , inplace = True)\n",
    "    dataset['MasVnrType'].fillna('None' , inplace = True)\n",
    "    dataset['Electrical'].fillna('SBrkr' , inplace = True)\n",
    "    return dataset\n",
    "\n",
    "X_train = impute_value(X_train)"
   ]
  },
  {
   "cell_type": "code",
   "execution_count": 72,
   "metadata": {},
   "outputs": [],
   "source": [
    "# test set\n",
    "def impute_value(X):\n",
    "    dataset =X\n",
    "    dataset['PoolQC'].fillna('NA' , inplace = True)\n",
    "    dataset['MiscFeature'].fillna('NA' , inplace = True)\n",
    "    dataset['Alley'].fillna('NA' , inplace = True)\n",
    "    dataset['Fence'].fillna('NA' , inplace = True)\n",
    "    dataset['FireplaceQu'].fillna('NA' , inplace = True)\n",
    "    dataset['LotFrontage'].fillna(dataset['LotFrontage'].median() , inplace = True)\n",
    "    dataset['GarageCond'].fillna('NA' , inplace = True)\n",
    "    dataset['GarageType'].fillna('NA' , inplace = True)\n",
    "    dataset['GarageYrBlt'].fillna(dataset['GarageYrBlt'].median() , inplace = True)\n",
    "    dataset['GarageFinish'].fillna('NA' , inplace = True)\n",
    "    dataset['GarageQual'].fillna('NA' , inplace = True)\n",
    "    dataset['BsmtExposure'].fillna('NA' , inplace = True)\n",
    "    dataset['BsmtFinType2'].fillna('NA' , inplace = True)\n",
    "    dataset['BsmtFinType1'].fillna('NA' , inplace = True)\n",
    "    dataset['BsmtCond'].fillna('NA' , inplace = True)\n",
    "    dataset['BsmtQual'].fillna('NA' , inplace = True)\n",
    "    dataset['MasVnrArea'].fillna(dataset['MasVnrArea'].median() , inplace = True)\n",
    "    dataset['MasVnrType'].fillna('None' , inplace = True)\n",
    "    dataset['Electrical'].fillna('SBrkr' , inplace = True)\n",
    "    dataset['MSZoning'].fillna('TA' , inplace = True)\n",
    "    dataset['BsmtFullBath'].fillna(0 , inplace = True)\n",
    "    dataset['BsmtHalfBath'].fillna(0 , inplace = True)\n",
    "    dataset['Utilities'].fillna('AllPub' , inplace = True)\n",
    "    dataset['Functional'].fillna('Typ' , inplace = True)\n",
    "    dataset['SaleType'].fillna('WD' , inplace = True)\n",
    "    dataset['KitchenQual'].fillna('TA' , inplace = True)\n",
    "    dataset['GarageArea'].fillna(dataset['GarageArea'].median() , inplace = True)\n",
    "    dataset['TotalBsmtSF'].fillna(dataset['TotalBsmtSF'].median() , inplace = True)\n",
    "    dataset['BsmtUnfSF'].fillna(dataset['BsmtUnfSF'].median(), inplace = True)\n",
    "    dataset['GarageCars'].fillna(0 , inplace = True)\n",
    "    dataset['Exterior1st'].fillna('VinylSd' , inplace = True)\n",
    "    dataset['BsmtFinSF2'].fillna(dataset['BsmtFinSF2'].median() , inplace = True)\n",
    "    dataset['BsmtFinSF1'].fillna(dataset['BsmtFinSF1'].median() , inplace = True)\n",
    "    dataset['Exterior2nd'].fillna('VinylSd' , inplace = True)\n",
    "\n",
    "\n",
    "    return dataset\n",
    "\n",
    "X_test = impute_value(X_test)"
   ]
  },
  {
   "cell_type": "code",
   "execution_count": 73,
   "metadata": {},
   "outputs": [
    {
     "name": "stdout",
     "output_type": "stream",
     "text": [
      "They are 0 columns with missing values : \n",
      "[] \n",
      "They are 0 columns with missing values : \n",
      "[] \n"
     ]
    }
   ],
   "source": [
    "# Cross checking the missing value\n",
    "missing =X_train.isna().sum(axis=0).sort_values(ascending=False)\n",
    "missing_value_columns = missing[missing>0]\n",
    "print('They are %s columns with missing values : \\n%s ' %(missing_value_columns.count() , [(index , value) for (index , value) in missing_value_columns.iteritems()]))\n",
    "\n",
    "missing =X_test.isna().sum(axis=0).sort_values(ascending=False)\n",
    "missing_value_columns = missing[missing>0]\n",
    "print('They are %s columns with missing values : \\n%s ' %(missing_value_columns.count() , [(index , value) for (index , value) in missing_value_columns.iteritems()]))"
   ]
  },
  {
   "cell_type": "code",
   "execution_count": 74,
   "metadata": {},
   "outputs": [
    {
     "name": "stdout",
     "output_type": "stream",
     "text": [
      "Here are the 41 object variables : \n",
      " ['MSZoning', 'Alley', 'LotShape', 'LandContour', 'Utilities', 'LotConfig', 'LandSlope', 'Neighborhood', 'Condition2', 'BldgType', 'HouseStyle', 'RoofStyle', 'RoofMatl', 'Exterior1st', 'Exterior2nd', 'MasVnrType', 'ExterQual', 'ExterCond', 'Foundation', 'BsmtQual', 'BsmtCond', 'BsmtExposure', 'BsmtFinType1', 'BsmtFinType2', 'Heating', 'HeatingQC', 'CentralAir', 'Electrical', 'KitchenQual', 'Functional', 'FireplaceQu', 'GarageType', 'GarageFinish', 'GarageQual', 'GarageCond', 'PavedDrive', 'PoolQC', 'Fence', 'MiscFeature', 'SaleType', 'SaleCondition']\n",
      "Here are the 41 object variables : \n",
      " ['MSZoning', 'Alley', 'LotShape', 'LandContour', 'Utilities', 'LotConfig', 'LandSlope', 'Neighborhood', 'Condition2', 'BldgType', 'HouseStyle', 'RoofStyle', 'RoofMatl', 'Exterior1st', 'Exterior2nd', 'MasVnrType', 'ExterQual', 'ExterCond', 'Foundation', 'BsmtQual', 'BsmtCond', 'BsmtExposure', 'BsmtFinType1', 'BsmtFinType2', 'Heating', 'HeatingQC', 'CentralAir', 'Electrical', 'KitchenQual', 'Functional', 'FireplaceQu', 'GarageType', 'GarageFinish', 'GarageQual', 'GarageCond', 'PavedDrive', 'PoolQC', 'Fence', 'MiscFeature', 'SaleType', 'SaleCondition']\n"
     ]
    }
   ],
   "source": [
    "# to check the categorical variables\n",
    "object = list(X_train.select_dtypes(include=[np.object]))\n",
    "print('Here are the %s object variables : \\n %s' %(len(object) , object)) \n",
    "\n",
    "object = list(X_test.select_dtypes(include=[np.object]))\n",
    "print('Here are the %s object variables : \\n %s' %(len(object) , object)) "
   ]
  },
  {
   "cell_type": "code",
   "execution_count": 75,
   "metadata": {},
   "outputs": [],
   "source": [
    "# Categorical variables\n",
    "def transform_variable(dataset):\n",
    "    copy = dataset\n",
    "    # Important categorical variables\n",
    "    copy.replace({'MSSubClass' : {\n",
    "        20\t:'1-STORY 1946 & NEWER ALL STYLES' ,\n",
    "            30\t:'1-STORY 1945 & OLDER' ,\n",
    "            40\t :    '1-STORY W/FINISHED ATTIC ALL AGES',\n",
    "            45\t:'1-1/2 STORY - UNFINISHED ALL AGES' ,\n",
    "            50\t:'1-1/2 STORY FINISHED ALL AGES' ,\n",
    "            60\t:'2-STORY 1946 & NEWER' ,\n",
    "            70\t : '2-STORY 1945 & OLDER' ,\n",
    "            75\t:'2-1/2 STORY ALL AGES' ,\n",
    "            80\t:'SPLIT OR MULTI-LEVEL' ,\n",
    "            85\t:'SPLIT FOYER',\n",
    "            90\t:'DUPLEX - ALL STYLES AND AGES',\n",
    "           120\t:'1-STORY PUD (Planned Unit Development) - 1946 & NEWER',\n",
    "           150\t:'1-1/2 STORY PUD - ALL AGES',\n",
    "           160\t:'2-STORY PUD - 1946 & NEWER',\n",
    "           180\t:'PUD - MULTILEVEL - INCL SPLIT LEV/FOYER',\n",
    "           190\t:'2 FAMILY CONVERSION - ALL STYLES AND AGES',\n",
    "    }} , inplace = True)\n",
    "    \n",
    "    # one hot encoding\n",
    "    columns = ['MSZoning','MSSubClass', 'Alley', 'LotShape', 'LandContour', 'Utilities', 'LotConfig', 'LandSlope', 'Neighborhood', 'Condition2', 'BldgType', 'HouseStyle', 'RoofStyle', 'RoofMatl', 'Exterior1st', 'Exterior2nd', 'MasVnrType', 'ExterQual', 'ExterCond', 'Foundation', 'BsmtQual', 'BsmtCond', 'BsmtExposure', 'BsmtFinType1', 'BsmtFinType2', 'Heating', 'HeatingQC', 'CentralAir', 'Electrical', 'KitchenQual', 'Functional', 'FireplaceQu', 'GarageType', 'GarageFinish', 'GarageQual', 'GarageCond', 'PavedDrive', 'PoolQC', 'Fence', 'MiscFeature', 'SaleType', 'SaleCondition']\n",
    "    for col_name in columns:\n",
    "        copy = pd.concat([copy , pd.get_dummies(copy[col_name] , prefix = col_name)] , axis =1)\n",
    "        copy = copy.drop(col_name , axis=1)\n",
    "    '''  \n",
    "    # ordinal variables transformation\n",
    "    quality = {'Ex' : 5 , 'Gd' : 4 , 'TA' : 3 , 'Po' : 1 , 'NA' : 0}\n",
    "    basement = { 'NA' : 0 , 'Unf' : 1 , 'LwQ' : 2 , 'Rec' : 3, 'BLQ' : 4 , 'ALQ' : 5 , 'GLQ' : 6 }\n",
    "    ordinal = {\n",
    "        'HeatingQC': quality,\n",
    "        'ExterQual': quality,\n",
    "        'ExterCond': quality,\n",
    "        'BsmtQual': quality,\n",
    "        'BsmtCond': quality,\n",
    "        'KitchenQual': quality,\n",
    "        'FireplaceQu': quality,\n",
    "        'GarageQual': quality,\n",
    "        'GarageCond': quality,\n",
    "        'PoolQC': quality,\n",
    "        'BsmtFinType1': basement,\n",
    "        'BsmtFinType2': basement,\n",
    "        'LandSlope':{'Gtl': 0 , 'Mod' : 1, 'Sev' :2},\n",
    "        'MasVnrType':{'None' : 0 , 'BrkCmn' : 0 , 'BrkFace' : 1, 'Stone' : 2},\n",
    "        'BsmtExposure': {'Gd' : 4 , 'Av' : 3 , 'Mn' : 2 , 'No' : 1, 'NA' : 0},\n",
    "        'CentralAir': { 'N' : 0, 'Y' : 1},\n",
    "        'GarageFinish':{'NA' : 0 , 'Unf' : 1, 'Rfn' : 2 , 'Fin' : 3},\n",
    "        'PavedDrive':{ 'N' : 0,'P' : 1, 'Y' : 2}\n",
    "    }\n",
    "    \n",
    "    for col_name , matching_map in ordinal.items():\n",
    "        copy[col_name] = copy[col_name].replace(matching_map , inplace=True)\n",
    "    '''\n",
    "       \n",
    "    return copy\n",
    "\n",
    "\n",
    "X_train = transform_variable(X_train)\n",
    "\n",
    "\n",
    "\n",
    "\n"
   ]
  },
  {
   "cell_type": "code",
   "execution_count": 76,
   "metadata": {},
   "outputs": [],
   "source": [
    "# Categorical variables\n",
    "def transform_variable(dataset):\n",
    "    copy = dataset\n",
    "    # Important categorical variables\n",
    "    copy.replace({'MSSubClass' : {\n",
    "        20\t:'1-STORY 1946 & NEWER ALL STYLES' ,\n",
    "            30\t:'1-STORY 1945 & OLDER' ,\n",
    "            40\t :    '1-STORY W/FINISHED ATTIC ALL AGES',\n",
    "            45\t:'1-1/2 STORY - UNFINISHED ALL AGES' ,\n",
    "            50\t:'1-1/2 STORY FINISHED ALL AGES' ,\n",
    "            60\t:'2-STORY 1946 & NEWER' ,\n",
    "            70\t : '2-STORY 1945 & OLDER' ,\n",
    "            75\t:'2-1/2 STORY ALL AGES' ,\n",
    "            80\t:'SPLIT OR MULTI-LEVEL' ,\n",
    "            85\t:'SPLIT FOYER',\n",
    "            90\t:'DUPLEX - ALL STYLES AND AGES',\n",
    "           120\t:'1-STORY PUD (Planned Unit Development) - 1946 & NEWER',\n",
    "           150\t:'1-1/2 STORY PUD - ALL AGES',\n",
    "           160\t:'2-STORY PUD - 1946 & NEWER',\n",
    "           180\t:'PUD - MULTILEVEL - INCL SPLIT LEV/FOYER',\n",
    "           190\t:'2 FAMILY CONVERSION - ALL STYLES AND AGES',\n",
    "    }} , inplace = True)\n",
    "    \n",
    "    # one hot encoding\n",
    "    columns = ['MSZoning','MSSubClass', 'Alley', 'LotShape', 'LandContour', 'Utilities', 'LotConfig', 'LandSlope', 'Neighborhood', 'Condition2', 'BldgType', 'HouseStyle', 'RoofStyle', 'RoofMatl', 'Exterior1st', 'Exterior2nd', 'MasVnrType', 'ExterQual', 'ExterCond', 'Foundation', 'BsmtQual', 'BsmtCond', 'BsmtExposure', 'BsmtFinType1', 'BsmtFinType2', 'Heating', 'HeatingQC', 'CentralAir', 'Electrical', 'KitchenQual', 'Functional', 'FireplaceQu', 'GarageType', 'GarageFinish', 'GarageQual', 'GarageCond', 'PavedDrive', 'PoolQC', 'Fence', 'MiscFeature', 'SaleType', 'SaleCondition']\n",
    "    for col_name in columns:\n",
    "        copy = pd.concat([copy , pd.get_dummies(copy[col_name] , prefix = col_name)] , axis =1)\n",
    "        copy = copy.drop(col_name , axis=1)\n",
    "    '''  \n",
    "    # ordinal variables transformation\n",
    "    quality = {'Ex' : 5 , 'Gd' : 4 , 'TA' : 3 , 'Po' : 1 , 'NA' : 0}\n",
    "    basement = { 'NA' : 0 , 'Unf' : 1 , 'LwQ' : 2 , 'Rec' : 3, 'BLQ' : 4 , 'ALQ' : 5 , 'GLQ' : 6 }\n",
    "    ordinal = {\n",
    "        'HeatingQC': quality,\n",
    "        'ExterQual': quality,\n",
    "        'ExterCond': quality,\n",
    "        'BsmtQual': quality,\n",
    "        'BsmtCond': quality,\n",
    "        'KitchenQual': quality,\n",
    "        'FireplaceQu': quality,\n",
    "        'GarageQual': quality,\n",
    "        'GarageCond': quality,\n",
    "        'PoolQC': quality,\n",
    "        'BsmtFinType1': basement,\n",
    "        'BsmtFinType2': basement,\n",
    "        'LandSlope':{'Gtl': 0 , 'Mod' : 1, 'Sev' :2},\n",
    "        'MasVnrType':{'None' : 0 , 'BrkCmn' : 0 , 'BrkFace' : 1, 'Stone' : 2},\n",
    "        'BsmtExposure': {'Gd' : 4 , 'Av' : 3 , 'Mn' : 2 , 'No' : 1, 'NA' : 0},\n",
    "        'CentralAir': { 'N' : 0, 'Y' : 1},\n",
    "        'GarageFinish':{'NA' : 0 , 'Unf' : 1, 'Rfn' : 2 , 'Fin' : 3},\n",
    "        'PavedDrive':{ 'N' : 0,'P' : 1, 'Y' : 2}\n",
    "    }\n",
    "    \n",
    "    for col_name , matching_map in ordinal.items():\n",
    "            copy[col_name] = copy[col_name].replace(matching_map , inplace=True)\n",
    "    '''\n",
    "       \n",
    "    return copy\n",
    "\n",
    "X_test = transform_variable(X_test)"
   ]
  },
  {
   "cell_type": "code",
   "execution_count": 77,
   "metadata": {},
   "outputs": [],
   "source": [
    "for col_name in list(X_train.columns):\n",
    "    if col_name not in X_test.columns:\n",
    "        X_test[col_name] = 0\n",
    "\n",
    "test_col = list(X_test.columns)\n",
    "train_col = list(X_train.columns)\n",
    "\n",
    "def diff(li1 , li2):\n",
    "    return (list(set(li1) - set(li2)))\n",
    "\n",
    "X_train = X_train.drop(diff(train_col , test_col) , axis=1)\n"
   ]
  },
  {
   "cell_type": "code",
   "execution_count": 79,
   "metadata": {},
   "outputs": [],
   "source": [
    "for col_name in list(X_train.columns):\n",
    "    if col_name not in X_test.columns:\n",
    "        X_test[col_name] = 0\n",
    "\n",
    "test_col = list(X_test.columns)\n",
    "train_col = list(X_train.columns)\n",
    "\n",
    "def diff(li1 , li2):\n",
    "    return (list(set(li1) - set(li2)))\n",
    "\n",
    "X_test = X_test.drop(diff(test_col , train_col) , axis=1)"
   ]
  },
  {
   "cell_type": "code",
   "execution_count": 80,
   "metadata": {},
   "outputs": [
    {
     "name": "stdout",
     "output_type": "stream",
     "text": [
      "(1460, 304)\n",
      "(1459, 304)\n"
     ]
    }
   ],
   "source": [
    "print(X_train.shape)\n",
    "print(X_test.shape)"
   ]
  },
  {
   "cell_type": "code",
   "execution_count": 81,
   "metadata": {},
   "outputs": [
    {
     "name": "stdout",
     "output_type": "stream",
     "text": [
      "(1460, 304)\n",
      "(1459, 304)\n",
      "(1460,)\n"
     ]
    }
   ],
   "source": [
    "X_train =X_train.values\n",
    "# print(X_train.dtypes) :: to checkkk if the X_train is converted into numpy array or not [if error occur it is , if not it's not]\n",
    "X_test =X_test.values\n",
    "y_train=y_train.values\n",
    "print(X_train.shape)\n",
    "print(X_test.shape)\n",
    "print(y_train.shape)\n"
   ]
  },
  {
   "cell_type": "code",
   "execution_count": 82,
   "metadata": {},
   "outputs": [],
   "source": [
    "from sklearn.preprocessing import StandardScaler\n",
    "sc_X = StandardScaler()\n",
    "X_train = sc_X.fit_transform(X_train)\n",
    "X_test = sc_X.transform(X_test)\n"
   ]
  },
  {
   "cell_type": "code",
   "execution_count": 83,
   "metadata": {},
   "outputs": [
    {
     "data": {
      "text/plain": [
       "DecisionTreeRegressor(ccp_alpha=0.0, criterion='mse', max_depth=None,\n",
       "                      max_features=None, max_leaf_nodes=None,\n",
       "                      min_impurity_decrease=0.0, min_impurity_split=None,\n",
       "                      min_samples_leaf=1, min_samples_split=2,\n",
       "                      min_weight_fraction_leaf=0.0, presort='deprecated',\n",
       "                      random_state=0, splitter='best')"
      ]
     },
     "execution_count": 83,
     "metadata": {},
     "output_type": "execute_result"
    }
   ],
   "source": [
    "# Fitting Decision Tree Regression to the dataset\n",
    "from sklearn.tree import DecisionTreeRegressor\n",
    "regressor = DecisionTreeRegressor(random_state = 0)\n",
    "regressor.fit(X_train, y_train)"
   ]
  },
  {
   "cell_type": "code",
   "execution_count": 84,
   "metadata": {},
   "outputs": [],
   "source": [
    "# Predicting the Test set results\n",
    "y_pred = regressor.predict(X_test)"
   ]
  },
  {
   "cell_type": "code",
   "execution_count": 85,
   "metadata": {},
   "outputs": [
    {
     "name": "stdout",
     "output_type": "stream",
     "text": [
      "(1459,)\n"
     ]
    }
   ],
   "source": [
    "y_pred\n",
    "print(y_pred.shape)"
   ]
  },
  {
   "cell_type": "code",
   "execution_count": 86,
   "metadata": {},
   "outputs": [
    {
     "name": "stdout",
     "output_type": "stream",
     "text": [
      "1.0\n"
     ]
    }
   ],
   "source": [
    "print(regressor.score(X_train, y_train))\n"
   ]
  },
  {
   "cell_type": "code",
   "execution_count": 87,
   "metadata": {},
   "outputs": [
    {
     "name": "stdout",
     "output_type": "stream",
     "text": [
      "1.0\n"
     ]
    }
   ],
   "source": [
    "print(regressor.score(X_test, y_pred))"
   ]
  },
  {
   "cell_type": "code",
   "execution_count": 88,
   "metadata": {},
   "outputs": [],
   "source": [
    "my_submission = pd.DataFrame({'Id' : test.Id , 'SalePrice' : y_pred})\n",
    "my_submission.to_csv('Prediction.csv' , index=False)"
   ]
  }
 ],
 "metadata": {
  "file_extension": ".py",
  "kernelspec": {
   "display_name": "Python 3",
   "language": "python",
   "name": "python3"
  },
  "language_info": {
   "codemirror_mode": {
    "name": "ipython",
    "version": 3
   },
   "file_extension": ".py",
   "mimetype": "text/x-python",
   "name": "python",
   "nbconvert_exporter": "python",
   "pygments_lexer": "ipython3",
   "version": "3.7.6"
  },
  "mimetype": "text/x-python",
  "name": "python",
  "npconvert_exporter": "python",
  "pygments_lexer": "ipython3",
  "version": 3
 },
 "nbformat": 4,
 "nbformat_minor": 2
}
